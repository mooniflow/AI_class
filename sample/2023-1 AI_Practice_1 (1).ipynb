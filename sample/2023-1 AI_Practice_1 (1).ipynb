{
  "nbformat": 4,
  "nbformat_minor": 0,
  "metadata": {
    "colab": {
      "provenance": []
    },
    "kernelspec": {
      "name": "python3",
      "display_name": "Python 3"
    }
  },
  "cells": [
    {
      "cell_type": "markdown",
      "metadata": {
        "id": "xvKo4kvqRxRH"
      },
      "source": [
        "## Matrix Creation"
      ]
    },
    {
      "cell_type": "code",
      "metadata": {
        "id": "VekphX9OZUF4",
        "colab": {
          "base_uri": "https://localhost:8080/"
        },
        "outputId": "92ff2869-a257-48c8-979b-910f47ebd783"
      },
      "source": [
        "1 + 2"
      ],
      "execution_count": null,
      "outputs": [
        {
          "output_type": "execute_result",
          "data": {
            "text/plain": [
              "3"
            ]
          },
          "metadata": {},
          "execution_count": 1
        }
      ]
    },
    {
      "cell_type": "code",
      "metadata": {
        "id": "lM14-8zCRsFF"
      },
      "source": [
        "import numpy"
      ],
      "execution_count": null,
      "outputs": []
    },
    {
      "cell_type": "markdown",
      "metadata": {
        "id": "ZXDsFEKFUPMI"
      },
      "source": [
        "We use **numpy** lib for matrixes manipulations\n",
        "\n",
        "\n",
        "Refer to the documentation of the library\n",
        "\n",
        "https://numpy.org/doc/stable/search.html?q=asarray&check_keywords=yes&area=default"
      ]
    },
    {
      "cell_type": "markdown",
      "metadata": {
        "id": "dgq5r2L8UZIm"
      },
      "source": [
        "Use **numpy.random.rand(shape)** to create randomly initialized matrix"
      ]
    },
    {
      "cell_type": "code",
      "metadata": {
        "id": "PgibJ94oRsMJ",
        "colab": {
          "base_uri": "https://localhost:8080/"
        },
        "outputId": "dd2a4661-909c-4146-8ccd-858eb31751ca"
      },
      "source": [
        "w_1 = numpy.random.rand(3, 3)\n",
        "print('Shape: ', w_1.shape)\n",
        "print(w_1)"
      ],
      "execution_count": null,
      "outputs": [
        {
          "output_type": "stream",
          "name": "stdout",
          "text": [
            "Shape:  (3, 3)\n",
            "[[0.13400891 0.40076782 0.62634514]\n",
            " [0.84853228 0.86055006 0.41897943]\n",
            " [0.6857977  0.83809908 0.76477515]]\n"
          ]
        }
      ]
    },
    {
      "cell_type": "markdown",
      "metadata": {
        "id": "B-dLMTqBa2V7"
      },
      "source": [
        "## Create Integer Matrix with shape 3x3, where maximum value is 20"
      ]
    },
    {
      "cell_type": "code",
      "metadata": {
        "colab": {
          "base_uri": "https://localhost:8080/"
        },
        "id": "hQ1ZUzNrafCk",
        "outputId": "2217cec2-c003-40b7-82f8-12ec5a031245"
      },
      "source": [
        "w_1 = numpy.random.randint(20, size=(3, 3))\n",
        "print('Shape: ', w_1.shape)\n",
        "print(w_1)"
      ],
      "execution_count": null,
      "outputs": [
        {
          "output_type": "stream",
          "name": "stdout",
          "text": [
            "Shape:  (3, 3)\n",
            "[[14 18 15]\n",
            " [19  5  6]\n",
            " [ 3 14 16]]\n"
          ]
        }
      ]
    },
    {
      "cell_type": "code",
      "metadata": {
        "id": "btYPHLSFRsKd",
        "colab": {
          "base_uri": "https://localhost:8080/"
        },
        "outputId": "1c44c663-4e17-45ac-e9c3-c2e520f72bb4"
      },
      "source": [
        "w_2 = numpy.random.randint(10, size=(3, 1))\n",
        "print('Shape: ', w_2.shape)\n",
        "print(w_2)"
      ],
      "execution_count": null,
      "outputs": [
        {
          "output_type": "stream",
          "name": "stdout",
          "text": [
            "Shape:  (3, 1)\n",
            "[[1]\n",
            " [6]\n",
            " [6]]\n"
          ]
        }
      ]
    },
    {
      "cell_type": "markdown",
      "metadata": {
        "id": "p0foAylqSt5j"
      },
      "source": [
        "## Matrix Transpose "
      ]
    },
    {
      "cell_type": "markdown",
      "metadata": {
        "id": "2KM6u_SxUxL0"
      },
      "source": [
        "**numpy.asarray** - convert list to numpy array / matrix"
      ]
    },
    {
      "cell_type": "code",
      "metadata": {
        "id": "u_YbVPFKSnlQ",
        "colab": {
          "base_uri": "https://localhost:8080/"
        },
        "outputId": "a0b217c2-0618-49d6-8b30-f6dde3298758"
      },
      "source": [
        "w_1 = numpy.asarray([[1],[2],[3]])\n",
        "print('Shape: ', w_1.shape)\n",
        "print(w_1)"
      ],
      "execution_count": null,
      "outputs": [
        {
          "output_type": "stream",
          "name": "stdout",
          "text": [
            "Shape:  (3, 1)\n",
            "[[1]\n",
            " [2]\n",
            " [3]]\n"
          ]
        }
      ]
    },
    {
      "cell_type": "markdown",
      "metadata": {
        "id": "d1995ekEU8vZ"
      },
      "source": [
        "**.T** computes the transpose of matrix"
      ]
    },
    {
      "cell_type": "code",
      "metadata": {
        "id": "jtB2DCXiSn23",
        "colab": {
          "base_uri": "https://localhost:8080/"
        },
        "outputId": "a322edf1-3eb8-4134-809a-c37bbb794fe9"
      },
      "source": [
        "w_1 = w_1.T\n",
        "print('Shape: ', w_1.shape)\n",
        "print(w_1)"
      ],
      "execution_count": null,
      "outputs": [
        {
          "output_type": "stream",
          "name": "stdout",
          "text": [
            "Shape:  (1, 3)\n",
            "[[1 2 3]]\n"
          ]
        }
      ]
    },
    {
      "cell_type": "code",
      "metadata": {
        "id": "1jGYanXlvBPQ"
      },
      "source": [],
      "execution_count": null,
      "outputs": []
    },
    {
      "cell_type": "markdown",
      "metadata": {
        "id": "_2GXnUbnVuP9"
      },
      "source": [
        "## Matrix Multiplication"
      ]
    },
    {
      "cell_type": "markdown",
      "metadata": {
        "id": "DrPPmNx_V2-S"
      },
      "source": [
        "Use **numpy.dot(w1, w2)** function to compute \n",
        "\n",
        "dot product / matrix multiplication for matrixes w1 and w2\n",
        "\n",
        "---\n",
        "\n"
      ]
    },
    {
      "cell_type": "code",
      "metadata": {
        "id": "KOt2HTwvSnzD",
        "colab": {
          "base_uri": "https://localhost:8080/"
        },
        "outputId": "e5e19645-1839-43fb-fc17-22da2b9caa72"
      },
      "source": [
        "w_1 = numpy.asarray([[1, 2, 3]])\n",
        "print('Shape: ', w_1.shape)\n",
        "print(w_1)\n",
        "\n",
        "print('----')\n",
        "w_2 = numpy.asarray([[1, 1, 1], \n",
        "                     [0, 1, 1], \n",
        "                     [0, 0, 1]])\n",
        "print('Shape: ', w_2.shape)\n",
        "print(w_2)"
      ],
      "execution_count": null,
      "outputs": [
        {
          "output_type": "stream",
          "name": "stdout",
          "text": [
            "Shape:  (1, 3)\n",
            "[[1 2 3]]\n",
            "----\n",
            "Shape:  (3, 3)\n",
            "[[1 1 1]\n",
            " [0 1 1]\n",
            " [0 0 1]]\n"
          ]
        }
      ]
    },
    {
      "cell_type": "code",
      "metadata": {
        "id": "3-ywYuT9SnxA",
        "colab": {
          "base_uri": "https://localhost:8080/"
        },
        "outputId": "31000b41-96e1-43a8-cce7-fa7e7236c2d9"
      },
      "source": [
        "w_3 = numpy.dot(w_1, w_2)\n",
        "print('Shape: ', w_3.shape)\n",
        "print(w_3)"
      ],
      "execution_count": null,
      "outputs": [
        {
          "output_type": "stream",
          "name": "stdout",
          "text": [
            "Shape:  (1, 3)\n",
            "[[1 3 6]]\n"
          ]
        }
      ]
    },
    {
      "cell_type": "code",
      "metadata": {
        "id": "CyzQ1-7DYD8v",
        "colab": {
          "base_uri": "https://localhost:8080/",
          "height": 200
        },
        "outputId": "d2683ea5-dbd7-443a-85e9-c81784def49d"
      },
      "source": [
        "numpy.dot(w_2, w_1)"
      ],
      "execution_count": null,
      "outputs": [
        {
          "output_type": "error",
          "ename": "ValueError",
          "evalue": "ignored",
          "traceback": [
            "\u001b[0;31m---------------------------------------------------------------------------\u001b[0m",
            "\u001b[0;31mValueError\u001b[0m                                Traceback (most recent call last)",
            "\u001b[0;32m<ipython-input-10-95f4ffaf2b01>\u001b[0m in \u001b[0;36m<cell line: 1>\u001b[0;34m()\u001b[0m\n\u001b[0;32m----> 1\u001b[0;31m \u001b[0mnumpy\u001b[0m\u001b[0;34m.\u001b[0m\u001b[0mdot\u001b[0m\u001b[0;34m(\u001b[0m\u001b[0mw_2\u001b[0m\u001b[0;34m,\u001b[0m \u001b[0mw_1\u001b[0m\u001b[0;34m)\u001b[0m\u001b[0;34m\u001b[0m\u001b[0;34m\u001b[0m\u001b[0m\n\u001b[0m",
            "\u001b[0;32m/usr/local/lib/python3.9/dist-packages/numpy/core/overrides.py\u001b[0m in \u001b[0;36mdot\u001b[0;34m(*args, **kwargs)\u001b[0m\n",
            "\u001b[0;31mValueError\u001b[0m: shapes (3,3) and (1,3) not aligned: 3 (dim 1) != 1 (dim 0)"
          ]
        }
      ]
    },
    {
      "cell_type": "markdown",
      "metadata": {
        "id": "AFlYBlMeXXOW"
      },
      "source": [
        "Simple multiplication sign (*) will make element-wise multiplication"
      ]
    },
    {
      "cell_type": "code",
      "metadata": {
        "id": "CA9xGcQtSntB",
        "colab": {
          "base_uri": "https://localhost:8080/"
        },
        "outputId": "00637846-684c-4c86-9add-60e6b78b4c0b"
      },
      "source": [
        "w_4 = w_3 * 2\n",
        "print('Shape: ', w_4.shape)\n",
        "print(w_4)"
      ],
      "execution_count": null,
      "outputs": [
        {
          "output_type": "stream",
          "name": "stdout",
          "text": [
            "Shape:  (1, 3)\n",
            "[[ 2  6 12]]\n"
          ]
        }
      ]
    },
    {
      "cell_type": "code",
      "metadata": {
        "id": "RfIfpos1Snrk"
      },
      "source": [],
      "execution_count": null,
      "outputs": []
    },
    {
      "cell_type": "code",
      "metadata": {
        "id": "vxEI_ZADbfiz",
        "colab": {
          "base_uri": "https://localhost:8080/"
        },
        "outputId": "c0866002-6826-4da7-97bd-5809f4febd49"
      },
      "source": [
        "1 - (-1)"
      ],
      "execution_count": null,
      "outputs": [
        {
          "output_type": "execute_result",
          "data": {
            "text/plain": [
              "2"
            ]
          },
          "metadata": {},
          "execution_count": 62
        }
      ]
    },
    {
      "cell_type": "code",
      "metadata": {
        "id": "B_4UzIRVbfwe"
      },
      "source": [],
      "execution_count": null,
      "outputs": []
    },
    {
      "cell_type": "code",
      "metadata": {
        "id": "48L0zwCP8xx1"
      },
      "source": [],
      "execution_count": null,
      "outputs": []
    },
    {
      "cell_type": "markdown",
      "metadata": {
        "id": "ogEdg9a8Oz0q"
      },
      "source": [
        "# 3 Layer Example"
      ]
    },
    {
      "cell_type": "code",
      "metadata": {
        "id": "9RGvkWig8x8O"
      },
      "source": [
        "import numpy"
      ],
      "execution_count": null,
      "outputs": []
    },
    {
      "cell_type": "code",
      "metadata": {
        "id": "ZSlWZ9ca8x6a",
        "colab": {
          "base_uri": "https://localhost:8080/"
        },
        "outputId": "d01da984-c26c-4679-c097-a0a206b3956f"
      },
      "source": [
        "I = numpy.asarray([[0.9, 0.1, 0.8]]).T\n",
        "print(I.shape)\n",
        "print(I)"
      ],
      "execution_count": null,
      "outputs": [
        {
          "output_type": "stream",
          "name": "stdout",
          "text": [
            "(3, 1)\n",
            "[[0.9]\n",
            " [0.1]\n",
            " [0.8]]\n"
          ]
        }
      ]
    },
    {
      "cell_type": "code",
      "metadata": {
        "id": "E4qsI3rS8x4I",
        "colab": {
          "base_uri": "https://localhost:8080/"
        },
        "outputId": "1b4773fa-734c-4a4b-9fdc-13916416a331"
      },
      "source": [
        "W_input_hidden = numpy.asarray(\n",
        "    [[0.9, 0.3, 0.4], \n",
        "     [0.2, 0.8, 0.2], \n",
        "     [0.1, 0.5, 0.6]])\n",
        "print(W_input_hidden.shape)\n",
        "print(W_input_hidden)\n",
        "print('-------')\n",
        "W_hidden_output = numpy.asarray(\n",
        "    [[0.3, 0.7, 0.5], \n",
        "     [0.6, 0.5, 0.2], \n",
        "     [0.8, 0.1, 0.9]])\n",
        "print(W_hidden_output.shape)\n",
        "print(W_hidden_output)"
      ],
      "execution_count": null,
      "outputs": [
        {
          "output_type": "stream",
          "name": "stdout",
          "text": [
            "(3, 3)\n",
            "[[0.9 0.3 0.4]\n",
            " [0.2 0.8 0.2]\n",
            " [0.1 0.5 0.6]]\n",
            "-------\n",
            "(3, 3)\n",
            "[[0.3 0.7 0.5]\n",
            " [0.6 0.5 0.2]\n",
            " [0.8 0.1 0.9]]\n"
          ]
        }
      ]
    },
    {
      "cell_type": "code",
      "metadata": {
        "id": "YKCTHARS8x2C",
        "colab": {
          "base_uri": "https://localhost:8080/"
        },
        "outputId": "7ba568ba-5406-4db9-822e-6531b5ae7ab0"
      },
      "source": [
        "X_hidden = numpy.dot(W_input_hidden, I)\n",
        "print(X_hidden.shape)\n",
        "print(X_hidden)"
      ],
      "execution_count": null,
      "outputs": [
        {
          "output_type": "stream",
          "name": "stdout",
          "text": [
            "(3, 1)\n",
            "[[1.16]\n",
            " [0.42]\n",
            " [0.62]]\n"
          ]
        }
      ]
    },
    {
      "cell_type": "code",
      "metadata": {
        "id": "k2Et_0wRSnpz"
      },
      "source": [
        "import scipy.special\n",
        "sigmoid_function = lambda x: scipy.special.expit(x)"
      ],
      "execution_count": null,
      "outputs": []
    },
    {
      "cell_type": "code",
      "metadata": {
        "id": "XCvr_C05-U1U",
        "colab": {
          "base_uri": "https://localhost:8080/"
        },
        "outputId": "43e774b6-0104-42de-c754-759b02b81e55"
      },
      "source": [
        "O_hidden = sigmoid_function(X_hidden)\n",
        "print(O_hidden.shape)\n",
        "print(O_hidden)"
      ],
      "execution_count": null,
      "outputs": [
        {
          "output_type": "stream",
          "name": "stdout",
          "text": [
            "(3, 1)\n",
            "[[0.76133271]\n",
            " [0.60348325]\n",
            " [0.65021855]]\n"
          ]
        }
      ]
    },
    {
      "cell_type": "code",
      "metadata": {
        "id": "ZwcTcK3r-2U0",
        "colab": {
          "base_uri": "https://localhost:8080/"
        },
        "outputId": "78c3cf34-5d23-4d6f-b539-63be27e4fe2e"
      },
      "source": [
        "X_output = numpy.dot(W_hidden_output, O_hidden)\n",
        "print(X_output.shape)\n",
        "print(X_output)"
      ],
      "execution_count": null,
      "outputs": [
        {
          "output_type": "stream",
          "name": "stdout",
          "text": [
            "(3, 1)\n",
            "[[0.97594736]\n",
            " [0.88858496]\n",
            " [1.25461119]]\n"
          ]
        }
      ]
    },
    {
      "cell_type": "code",
      "metadata": {
        "id": "YCV9N8uk-2SW",
        "colab": {
          "base_uri": "https://localhost:8080/"
        },
        "outputId": "79398c09-6050-4a5c-ab95-b2e9a2e0b504"
      },
      "source": [
        "O_output = sigmoid_function(X_output)\n",
        "print(O_output.shape)\n",
        "print(O_output)"
      ],
      "execution_count": null,
      "outputs": [
        {
          "output_type": "stream",
          "name": "stdout",
          "text": [
            "(3, 1)\n",
            "[[0.72630335]\n",
            " [0.70859807]\n",
            " [0.77809706]]\n"
          ]
        }
      ]
    }
  ]
}