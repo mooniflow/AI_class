{
  "nbformat": 4,
  "nbformat_minor": 0,
  "metadata": {
    "colab": {
      "provenance": []
    },
    "kernelspec": {
      "name": "python3",
      "display_name": "Python 3"
    },
    "language_info": {
      "name": "python"
    }
  },
  "cells": [
    {
      "cell_type": "code",
      "metadata": {
        "id": "adTP6QOmX4PE"
      },
      "source": [],
      "execution_count": null,
      "outputs": []
    },
    {
      "cell_type": "markdown",
      "metadata": {
        "id": "fKwOgajUDZba"
      },
      "source": [
        "# Forward Propagation"
      ]
    },
    {
      "cell_type": "code",
      "metadata": {
        "id": "X5jiJuHV6Zo3"
      },
      "source": [
        "import numpy"
      ],
      "execution_count": null,
      "outputs": []
    },
    {
      "cell_type": "code",
      "metadata": {
        "colab": {
          "base_uri": "https://localhost:8080/"
        },
        "id": "LklJRbGw6ZrG",
        "outputId": "11365bc8-4527-44ba-d58b-b489397ca6cb"
      },
      "source": [
        "I = numpy.asarray([[0.9, 0.1, 0.8]]).T\n",
        "print(I.shape)\n",
        "print(I)"
      ],
      "execution_count": null,
      "outputs": [
        {
          "output_type": "stream",
          "name": "stdout",
          "text": [
            "(3, 1)\n",
            "[[0.9]\n",
            " [0.1]\n",
            " [0.8]]\n"
          ]
        }
      ]
    },
    {
      "cell_type": "code",
      "metadata": {
        "colab": {
          "base_uri": "https://localhost:8080/"
        },
        "id": "UiQZ-N8g6ZtG",
        "outputId": "521d7337-1f74-47a6-97b5-00a4a8071466"
      },
      "source": [
        "W_input_hidden = numpy.asarray(\n",
        "    [[0.9, 0.3, 0.4], \n",
        "     [0.2, 0.8, 0.2], \n",
        "     [0.1, 0.5, 0.6]])\n",
        "print(W_input_hidden.shape)\n",
        "print(W_input_hidden)"
      ],
      "execution_count": null,
      "outputs": [
        {
          "output_type": "stream",
          "name": "stdout",
          "text": [
            "(3, 3)\n",
            "[[0.9 0.3 0.4]\n",
            " [0.2 0.8 0.2]\n",
            " [0.1 0.5 0.6]]\n"
          ]
        }
      ]
    },
    {
      "cell_type": "code",
      "metadata": {
        "colab": {
          "base_uri": "https://localhost:8080/"
        },
        "id": "M80sjkbm6Zvg",
        "outputId": "63859f13-1d90-453e-9ef5-ce72e97999be"
      },
      "source": [
        "W_hidden_output = numpy.asarray(\n",
        "    [[0.3, 0.7, 0.5], \n",
        "     [0.6, 0.5, 0.2], \n",
        "     [0.8, 0.1, 0.9]])\n",
        "print(W_hidden_output.shape)\n",
        "print(W_hidden_output)"
      ],
      "execution_count": null,
      "outputs": [
        {
          "output_type": "stream",
          "name": "stdout",
          "text": [
            "(3, 3)\n",
            "[[0.3 0.7 0.5]\n",
            " [0.6 0.5 0.2]\n",
            " [0.8 0.1 0.9]]\n"
          ]
        }
      ]
    },
    {
      "cell_type": "code",
      "metadata": {
        "colab": {
          "base_uri": "https://localhost:8080/"
        },
        "id": "QhycE0d36Zxv",
        "outputId": "8e292c36-a3e9-46b8-f38d-e7499f94fedf"
      },
      "source": [
        "X_hidden = numpy.dot(W_input_hidden, I)\n",
        "print(X_hidden.shape)\n",
        "print(X_hidden)"
      ],
      "execution_count": null,
      "outputs": [
        {
          "output_type": "stream",
          "name": "stdout",
          "text": [
            "(3, 1)\n",
            "[[1.16]\n",
            " [0.42]\n",
            " [0.62]]\n"
          ]
        }
      ]
    },
    {
      "cell_type": "code",
      "metadata": {
        "id": "Rlv7EEfq6Zz_"
      },
      "source": [
        "import scipy.special\n",
        "sigmoid_function = lambda x: scipy.special.expit(x)"
      ],
      "execution_count": null,
      "outputs": []
    },
    {
      "cell_type": "code",
      "metadata": {
        "colab": {
          "base_uri": "https://localhost:8080/"
        },
        "id": "2WD2k55E6Z2X",
        "outputId": "b0aec8cb-462c-44b2-fb0d-754ba1493e97"
      },
      "source": [
        "O_hidden = sigmoid_function(X_hidden)\n",
        "print(O_hidden.shape)\n",
        "print(O_hidden)"
      ],
      "execution_count": null,
      "outputs": [
        {
          "output_type": "stream",
          "name": "stdout",
          "text": [
            "(3, 1)\n",
            "[[0.76133271]\n",
            " [0.60348325]\n",
            " [0.65021855]]\n"
          ]
        }
      ]
    },
    {
      "cell_type": "code",
      "metadata": {
        "colab": {
          "base_uri": "https://localhost:8080/"
        },
        "id": "ikAYyGQ-6Z4e",
        "outputId": "d2126608-2836-4393-fb7d-92699de696b3"
      },
      "source": [
        "X_output = numpy.dot(W_hidden_output, O_hidden)\n",
        "print(X_output.shape)\n",
        "print(X_output)"
      ],
      "execution_count": null,
      "outputs": [
        {
          "output_type": "stream",
          "name": "stdout",
          "text": [
            "(3, 1)\n",
            "[[0.97594736]\n",
            " [0.88858496]\n",
            " [1.25461119]]\n"
          ]
        }
      ]
    },
    {
      "cell_type": "code",
      "metadata": {
        "colab": {
          "base_uri": "https://localhost:8080/"
        },
        "id": "-ao6-k4K6Z63",
        "outputId": "bd1fb877-a96f-4828-fbcb-59ae1c991a74"
      },
      "source": [
        "O_output = sigmoid_function(X_output)\n",
        "print(O_output.shape)\n",
        "print(O_output)"
      ],
      "execution_count": null,
      "outputs": [
        {
          "output_type": "stream",
          "name": "stdout",
          "text": [
            "(3, 1)\n",
            "[[0.72630335]\n",
            " [0.70859807]\n",
            " [0.77809706]]\n"
          ]
        }
      ]
    },
    {
      "cell_type": "code",
      "metadata": {
        "id": "eZHjR68a6Z9A"
      },
      "source": [],
      "execution_count": null,
      "outputs": []
    },
    {
      "cell_type": "markdown",
      "metadata": {
        "id": "IWL49CUIJUmz"
      },
      "source": [
        "# Backward Propagation"
      ]
    },
    {
      "cell_type": "code",
      "metadata": {
        "id": "ryjkWyO26aBn"
      },
      "source": [],
      "execution_count": null,
      "outputs": []
    },
    {
      "cell_type": "markdown",
      "metadata": {
        "id": "4FZkzgaBJYOT"
      },
      "source": [
        "## Old Weights"
      ]
    },
    {
      "cell_type": "code",
      "metadata": {
        "colab": {
          "base_uri": "https://localhost:8080/"
        },
        "id": "Z4DJASic6aD3",
        "outputId": "06896764-404d-4663-804c-bb15145d5239"
      },
      "source": [
        "print(W_input_hidden.shape)\n",
        "print(W_input_hidden)\n",
        "print('-------')\n",
        "print(W_hidden_output.shape)\n",
        "print(W_hidden_output)"
      ],
      "execution_count": null,
      "outputs": [
        {
          "output_type": "stream",
          "name": "stdout",
          "text": [
            "(3, 3)\n",
            "[[0.9 0.3 0.4]\n",
            " [0.2 0.8 0.2]\n",
            " [0.1 0.5 0.6]]\n",
            "-------\n",
            "(3, 3)\n",
            "[[0.3 0.7 0.5]\n",
            " [0.6 0.5 0.2]\n",
            " [0.8 0.1 0.9]]\n"
          ]
        }
      ]
    },
    {
      "cell_type": "code",
      "metadata": {
        "colab": {
          "base_uri": "https://localhost:8080/"
        },
        "id": "-mQAXUn26aJ2",
        "outputId": "80358e49-a60f-48dc-ab45-97c26b89312c"
      },
      "source": [
        "target = numpy.asarray([[0.6, 0.8, 0.5]]).T\n",
        "print('--Sample Target--')\n",
        "print(target.shape)\n",
        "print(target)"
      ],
      "execution_count": null,
      "outputs": [
        {
          "output_type": "stream",
          "name": "stdout",
          "text": [
            "--Sample Target--\n",
            "(3, 1)\n",
            "[[0.6]\n",
            " [0.8]\n",
            " [0.5]]\n"
          ]
        }
      ]
    },
    {
      "cell_type": "code",
      "metadata": {
        "id": "EgReXSeD6aMP"
      },
      "source": [
        "output_error = (target - O_output)\n",
        "hidden_error = numpy.dot(W_hidden_output.T, output_error)\n",
        "\n",
        "W_hidden_output = W_hidden_output - (-0.01 * numpy.dot(output_error * O_output * (1 - O_output), O_hidden.T))\n",
        "W_input_hidden = W_input_hidden - (-0.01 * numpy.dot(hidden_error * O_hidden * (1 - O_hidden), I.T))"
      ],
      "execution_count": null,
      "outputs": []
    },
    {
      "cell_type": "code",
      "metadata": {
        "colab": {
          "base_uri": "https://localhost:8080/"
        },
        "id": "jvJcqzH46aOv",
        "outputId": "5ba3bf7b-e493-4f4d-9db2-f7ce8a385f5f"
      },
      "source": [
        "print(W_input_hidden.shape)\n",
        "print(W_input_hidden)\n",
        "print('-------')\n",
        "print(W_hidden_output.shape)\n",
        "print(W_hidden_output)"
      ],
      "execution_count": null,
      "outputs": [
        {
          "output_type": "stream",
          "name": "stdout",
          "text": [
            "(3, 3)\n",
            "[[0.89966389 0.29996265 0.39970124]\n",
            " [0.19984812 0.79998312 0.199865  ]\n",
            " [0.09939584 0.49993287 0.59946297]]\n",
            "-------\n",
            "(3, 3)\n",
            "[[0.29980885 0.69984848 0.49983675]\n",
            " [0.60014369 0.5001139  0.20012272]\n",
            " [0.79963443 0.09971023 0.89968779]]\n"
          ]
        }
      ]
    },
    {
      "cell_type": "code",
      "metadata": {
        "id": "o_lGoTs56aRH"
      },
      "source": [],
      "execution_count": null,
      "outputs": []
    },
    {
      "cell_type": "code",
      "metadata": {
        "id": "hOx234PcLxZD"
      },
      "source": [
        "# Sample Training and Testing"
      ],
      "execution_count": null,
      "outputs": []
    },
    {
      "cell_type": "markdown",
      "metadata": {
        "id": "XozqkKv5L0EZ"
      },
      "source": [
        "# Sample Training and Testing"
      ]
    },
    {
      "cell_type": "code",
      "metadata": {
        "id": "bvGlHlcqLxbp"
      },
      "source": [
        "n_of_epochs = 800\n",
        "\n",
        "I = numpy.asarray([[0.9, 0.1, 0.8]]).T\n",
        "target = numpy.asarray([[0.6, 0.8, 0.5]]).T\n",
        "\n",
        "W_input_hidden = numpy.asarray(\n",
        "    [[0.9, 0.3, 0.4], \n",
        "     [0.2, 0.8, 0.2], \n",
        "     [0.1, 0.5, 0.6]])\n",
        "W_hidden_output = numpy.asarray(\n",
        "    [[0.3, 0.7, 0.5], \n",
        "     [0.6, 0.5, 0.2], \n",
        "     [0.8, 0.1, 0.9]])"
      ],
      "execution_count": null,
      "outputs": []
    },
    {
      "cell_type": "code",
      "metadata": {
        "colab": {
          "base_uri": "https://localhost:8080/"
        },
        "id": "__bFq90iLxdp",
        "outputId": "05d7fd78-e249-4dc7-9177-7288182a1e83"
      },
      "source": [
        "print('Weight Matrixes')\n",
        "print(W_input_hidden.shape)\n",
        "print(W_input_hidden)\n",
        "print('-------')\n",
        "print(W_hidden_output.shape)\n",
        "print(W_hidden_output)\n",
        "\n",
        "print('\\nTarget:\\n', target, '\\n')\n",
        "\n",
        "\n",
        "# Forward Pass\n",
        "X_hidden = numpy.dot(W_input_hidden, I)\n",
        "O_hidden = sigmoid_function(X_hidden)\n",
        "X_output = numpy.dot(W_hidden_output, O_hidden)\n",
        "O_output = sigmoid_function(X_output)\n",
        "\n",
        "print('Output Before Training:\\n', O_output)"
      ],
      "execution_count": null,
      "outputs": [
        {
          "output_type": "stream",
          "name": "stdout",
          "text": [
            "Weight Matrixes\n",
            "(3, 3)\n",
            "[[0.9 0.3 0.4]\n",
            " [0.2 0.8 0.2]\n",
            " [0.1 0.5 0.6]]\n",
            "-------\n",
            "(3, 3)\n",
            "[[0.3 0.7 0.5]\n",
            " [0.6 0.5 0.2]\n",
            " [0.8 0.1 0.9]]\n",
            "\n",
            "Target:\n",
            " [[0.6]\n",
            " [0.8]\n",
            " [0.5]] \n",
            "\n",
            "Output Before Training:\n",
            " [[0.72630335]\n",
            " [0.70859807]\n",
            " [0.77809706]]\n"
          ]
        }
      ]
    },
    {
      "cell_type": "code",
      "metadata": {
        "colab": {
          "base_uri": "https://localhost:8080/"
        },
        "id": "oriI4xiqLxf5",
        "outputId": "6d89511b-d0f7-430e-ca0e-4b125d102e42"
      },
      "source": [
        "for epoch in range(n_of_epochs):\n",
        "  # Forward Pass\n",
        "  X_hidden = numpy.dot(W_input_hidden, I)\n",
        "  O_hidden = sigmoid_function(X_hidden)\n",
        "  X_output = numpy.dot(W_hidden_output, O_hidden)\n",
        "  O_output = sigmoid_function(X_output)\n",
        "\n",
        "\n",
        "  # Backward Pass\n",
        "  output_error = (target - O_output)\n",
        "  hidden_error = numpy.dot(W_hidden_output.T, output_error)\n",
        "  W_hidden_output = W_hidden_output - (-0.1 * numpy.dot(output_error * O_output * (1 - O_output), O_hidden.T))\n",
        "  W_input_hidden = W_input_hidden - (-0.1 * numpy.dot(hidden_error * O_hidden * (1 - O_hidden), I.T))\n",
        "\n",
        "  if epoch % 100 == 0:\n",
        "    print('Epoch:', epoch)\n",
        "    total_error = numpy.sum(output_error ** 2)\n",
        "    print('Error:', '{0:.10f}'.format(total_error))\n",
        "\n",
        "print('---Training Fininshed---\\n')"
      ],
      "execution_count": null,
      "outputs": [
        {
          "output_type": "stream",
          "name": "stdout",
          "text": [
            "Epoch: 0\n",
            "Error: 0.1016448219\n",
            "Epoch: 100\n",
            "Error: 0.0287427015\n",
            "Epoch: 200\n",
            "Error: 0.0081838235\n",
            "Epoch: 300\n",
            "Error: 0.0023825505\n",
            "Epoch: 400\n",
            "Error: 0.0007263831\n",
            "Epoch: 500\n",
            "Error: 0.0002367784\n",
            "Epoch: 600\n",
            "Error: 0.0000825510\n",
            "Epoch: 700\n",
            "Error: 0.0000303607\n",
            "---Training Fininshed---\n",
            "\n"
          ]
        }
      ]
    },
    {
      "cell_type": "code",
      "metadata": {
        "colab": {
          "base_uri": "https://localhost:8080/"
        },
        "id": "eGDP_taDLxiB",
        "outputId": "68c849c7-fee9-4a81-9d40-e61c0da8d355"
      },
      "source": [
        "# Forward Pass\n",
        "X_hidden = numpy.dot(W_input_hidden, I)\n",
        "O_hidden = sigmoid_function(X_hidden)\n",
        "X_output = numpy.dot(W_hidden_output, O_hidden)\n",
        "O_output = sigmoid_function(X_output)\n",
        "print('Output After Training:\\n', O_output)\n",
        "print('\\nTarget:\\n', target, '\\n')"
      ],
      "execution_count": null,
      "outputs": [
        {
          "output_type": "stream",
          "name": "stdout",
          "text": [
            "Output After Training:\n",
            " [[0.60127786]\n",
            " [0.79691272]\n",
            " [0.5006452 ]]\n",
            "\n",
            "Target:\n",
            " [[0.6]\n",
            " [0.8]\n",
            " [0.5]] \n",
            "\n"
          ]
        }
      ]
    },
    {
      "cell_type": "code",
      "metadata": {
        "colab": {
          "base_uri": "https://localhost:8080/"
        },
        "id": "9DZgUyvCLxj1",
        "outputId": "ea773b4a-d8db-41b6-88e4-1d7fcd9d7b97"
      },
      "source": [
        "print('\\nNew Weight Matrixes')\n",
        "print(W_input_hidden.shape)\n",
        "print(W_input_hidden)\n",
        "print('-------')\n",
        "print(W_hidden_output.shape)\n",
        "print(W_hidden_output)"
      ],
      "execution_count": null,
      "outputs": [
        {
          "output_type": "stream",
          "name": "stdout",
          "text": [
            "\n",
            "New Weight Matrixes\n",
            "(3, 3)\n",
            "[[ 0.81474342  0.29052705  0.32421638]\n",
            " [ 0.40407065  0.82267452  0.38139613]\n",
            " [-0.49263378  0.4341518   0.07321442]]\n",
            "-------\n",
            "(3, 3)\n",
            "[[-0.00712505  0.43671401  0.28720227]\n",
            " [ 0.91358922  0.77108557  0.4126951 ]\n",
            " [ 0.16012332 -0.44541396  0.45119395]]\n"
          ]
        }
      ]
    },
    {
      "cell_type": "code",
      "metadata": {
        "id": "I85bIYDvLxmC"
      },
      "source": [],
      "execution_count": null,
      "outputs": []
    },
    {
      "cell_type": "code",
      "metadata": {
        "id": "7yAo12r1LxoR"
      },
      "source": [],
      "execution_count": null,
      "outputs": []
    },
    {
      "cell_type": "code",
      "metadata": {
        "id": "dCyHYZ7n6aTD"
      },
      "source": [],
      "execution_count": null,
      "outputs": []
    },
    {
      "cell_type": "code",
      "metadata": {
        "id": "fODP-bKv6aYO"
      },
      "source": [],
      "execution_count": null,
      "outputs": []
    },
    {
      "cell_type": "code",
      "metadata": {
        "id": "YM9RcfTkX4RU"
      },
      "source": [],
      "execution_count": null,
      "outputs": []
    },
    {
      "cell_type": "code",
      "metadata": {
        "id": "Vjh_zme9X4TY"
      },
      "source": [],
      "execution_count": null,
      "outputs": []
    }
  ]
}