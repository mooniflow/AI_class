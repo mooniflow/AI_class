{
  "nbformat": 4,
  "nbformat_minor": 0,
  "metadata": {
    "colab": {
      "provenance": [],
      "toc_visible": true
    },
    "kernelspec": {
      "name": "python3",
      "display_name": "Python 3"
    },
    "language_info": {
      "name": "python"
    }
  },
  "cells": [
    {
      "cell_type": "code",
      "execution_count": null,
      "metadata": {
        "id": "oHs2Glw2Nzhp"
      },
      "outputs": [],
      "source": []
    },
    {
      "cell_type": "markdown",
      "source": [
        "# ***Part 1***"
      ],
      "metadata": {
        "id": "dgp98OKWOJgk"
      }
    },
    {
      "cell_type": "markdown",
      "source": [
        "## Forward Propagation"
      ],
      "metadata": {
        "id": "jnf8KeXhQnTW"
      }
    },
    {
      "cell_type": "code",
      "source": [
        "import numpy"
      ],
      "metadata": {
        "id": "ne4ArXslQd_S"
      },
      "execution_count": 30,
      "outputs": []
    },
    {
      "cell_type": "code",
      "source": [
        "in_arr = numpy.asarray([[0.9, 0.1, 0.8]]).T"
      ],
      "metadata": {
        "id": "EoQq7S71RD6J"
      },
      "execution_count": 31,
      "outputs": []
    },
    {
      "cell_type": "markdown",
      "source": [
        "array for inputs"
      ],
      "metadata": {
        "id": "cBJaTT3vS2Hf"
      }
    },
    {
      "cell_type": "code",
      "source": [
        "weight1 = numpy.asarray([[0.9, 0.3, 0.4], [0.2, 0.8, 0.2], [0.1, 0.5, 0.6]])"
      ],
      "metadata": {
        "id": "yxCQxe9ZS_PS"
      },
      "execution_count": 32,
      "outputs": []
    },
    {
      "cell_type": "markdown",
      "source": [
        "array for weights in input_hidden"
      ],
      "metadata": {
        "id": "OUlFZUCQTUyS"
      }
    },
    {
      "cell_type": "code",
      "source": [
        "weight2 = numpy.asarray([[0.3, 0.7, 0.5], [0.6, 0.5, 0.2], [0.8, 0.1, 0.9]])"
      ],
      "metadata": {
        "id": "jVVXPUZJT2Mq"
      },
      "execution_count": 33,
      "outputs": []
    },
    {
      "cell_type": "markdown",
      "source": [
        "array for weights in hidden_output"
      ],
      "metadata": {
        "id": "oNxAsr92T-Dl"
      }
    },
    {
      "cell_type": "code",
      "source": [
        "import scipy.special\n",
        "sigmoid_function = lambda x: scipy.special.expit(x)\n",
        "\n",
        "dot1 = numpy.dot(weight1, in_arr)\n",
        "sig1 = sigmoid_function(dot1)\n",
        "\n",
        "dot2 = numpy.dot(weight2, sig1)\n",
        "sig2 = sigmoid_function(dot2)"
      ],
      "metadata": {
        "id": "vuDgao3TUBU8"
      },
      "execution_count": 34,
      "outputs": []
    },
    {
      "cell_type": "markdown",
      "source": [
        "dot production and sigmoid function in input_hidden and hidden_output"
      ],
      "metadata": {
        "id": "QbfYlRFaVpCR"
      }
    },
    {
      "cell_type": "code",
      "source": [
        "output = sig2\n",
        "print(output.shape)\n",
        "print(output)"
      ],
      "metadata": {
        "colab": {
          "base_uri": "https://localhost:8080/"
        },
        "id": "pWMZJQ8hV6Xl",
        "outputId": "95c6d5f5-d125-4c80-88ff-18bd3f011d31"
      },
      "execution_count": 35,
      "outputs": [
        {
          "output_type": "stream",
          "name": "stdout",
          "text": [
            "(3, 1)\n",
            "[[0.72630335]\n",
            " [0.70859807]\n",
            " [0.77809706]]\n"
          ]
        }
      ]
    },
    {
      "cell_type": "markdown",
      "source": [
        "show the output"
      ],
      "metadata": {
        "id": "FfvpBlXmWRg_"
      }
    },
    {
      "cell_type": "markdown",
      "source": [
        "## Backward Propagation"
      ],
      "metadata": {
        "id": "jCs63VY5WWT6"
      }
    },
    {
      "cell_type": "code",
      "source": [
        "target = numpy.asarray([[0.6, 0.8, 0.5]]).T"
      ],
      "metadata": {
        "id": "Rg-zmTLfWnbj"
      },
      "execution_count": 13,
      "outputs": []
    },
    {
      "cell_type": "markdown",
      "source": [
        "set the target"
      ],
      "metadata": {
        "id": "WRIn8VFZXJzx"
      }
    },
    {
      "cell_type": "code",
      "source": [
        "error2 = target - output\n",
        "error1 = numpy.dot(weight2.T, error2)"
      ],
      "metadata": {
        "id": "l5Kwn0SyXLKT"
      },
      "execution_count": 15,
      "outputs": []
    },
    {
      "cell_type": "markdown",
      "source": [
        "compute the error"
      ],
      "metadata": {
        "id": "TTaLyDcbXr5k"
      }
    },
    {
      "cell_type": "code",
      "source": [
        "weight1 = weight1 - (-0.01 * numpy.dot(error1 * sig1 * (1 - sig1), in_arr.T))\n",
        "weight2 = weight2 - (-0.01 * numpy.dot(error2 * sig2 * (1 - sig2), sig1.T))"
      ],
      "metadata": {
        "id": "lU1Dl2wdX1HK"
      },
      "execution_count": 16,
      "outputs": []
    },
    {
      "cell_type": "markdown",
      "source": [
        "modify the weights"
      ],
      "metadata": {
        "id": "xofvrk4QYrKe"
      }
    },
    {
      "cell_type": "code",
      "source": [
        "print('new weight1')\n",
        "print(weight1.shape)\n",
        "print(weight1)\n",
        "print('')\n",
        "print('new weight2')\n",
        "print(weight2.shape)\n",
        "print(weight2)"
      ],
      "metadata": {
        "colab": {
          "base_uri": "https://localhost:8080/"
        },
        "id": "JSXk2kKPY6Ac",
        "outputId": "a51d1685-5115-425e-9eff-73526e7d6110"
      },
      "execution_count": 19,
      "outputs": [
        {
          "output_type": "stream",
          "name": "stdout",
          "text": [
            "new weight1\n",
            "(3, 3)\n",
            "[[0.89966389 0.29996265 0.39970124]\n",
            " [0.19984812 0.79998312 0.199865  ]\n",
            " [0.09939584 0.49993287 0.59946297]]\n",
            "\n",
            "new weight2\n",
            "(3, 3)\n",
            "[[0.29980885 0.69984848 0.49983675]\n",
            " [0.60014369 0.5001139  0.20012272]\n",
            " [0.79963443 0.09971023 0.89968779]]\n"
          ]
        }
      ]
    },
    {
      "cell_type": "markdown",
      "source": [
        "show the new weights"
      ],
      "metadata": {
        "id": "Usc1gVgMZZaQ"
      }
    },
    {
      "cell_type": "markdown",
      "source": [
        "## Train & Test"
      ],
      "metadata": {
        "id": "pgYNzmyWaTvo"
      }
    },
    {
      "cell_type": "markdown",
      "source": [
        "Train the neural network using the above code"
      ],
      "metadata": {
        "id": "DqcTQxvLdUDo"
      }
    },
    {
      "cell_type": "code",
      "source": [
        "import numpy\n",
        "import scipy.special\n",
        "\n",
        "sigmoid_function = lambda x: scipy.special.expit(x)\n",
        "\n",
        "n_of_epochs = 1000\n",
        "\n",
        "in_arr = numpy.asarray([[0.9, 0.1, 0.8]]).T\n",
        "target = numpy.asarray([[0.6, 0.8, 0.5]]).T\n",
        "\n",
        "weight1 = numpy.asarray([[0.9, 0.3, 0.4], [0.2, 0.8, 0.2], [0.1, 0.5, 0.6]])\n",
        "weight2 = numpy.asarray([[0.3, 0.7, 0.5], [0.6, 0.5, 0.2], [0.8, 0.1, 0.9]])\n",
        "\n",
        "for epoch in range(n_of_epochs):\n",
        "  dot1 = numpy.dot(weight1, in_arr)\n",
        "  sig1 = sigmoid_function(dot1)\n",
        "  dot2 = numpy.dot(weight2, sig1)\n",
        "  sig2 = sigmoid_function(dot2)\n",
        "\n",
        "  error2 = target - sig2\n",
        "  error1 = numpy.dot(weight2.T, error2)\n",
        "  weight1 = weight1 - (-0.08 * numpy.dot(error1 * sig1 * (1 - sig1), in_arr.T))\n",
        "  weight2 = weight2 - (-0.08 * numpy.dot(error2 * sig2 * (1 - sig2), sig1.T))\n",
        "\n",
        "  if epoch % 100 == 0:\n",
        "    print('Epoch:', epoch)\n",
        "    total_error = numpy.sum(error2 ** 2)\n",
        "    print('Error:', '{0:.10f}'.format(total_error))\n",
        "\n"
      ],
      "metadata": {
        "colab": {
          "base_uri": "https://localhost:8080/"
        },
        "id": "wSPZIcMBacy1",
        "outputId": "b65dcbca-ac0a-462c-8d67-5aacef44aad0"
      },
      "execution_count": 48,
      "outputs": [
        {
          "output_type": "stream",
          "name": "stdout",
          "text": [
            "Epoch: 0\n",
            "Error: 0.1016448219\n",
            "Epoch: 100\n",
            "Error: 0.0370836347\n",
            "Epoch: 200\n",
            "Error: 0.0135081277\n",
            "Epoch: 300\n",
            "Error: 0.0049840413\n",
            "Epoch: 400\n",
            "Error: 0.0018730002\n",
            "Epoch: 500\n",
            "Error: 0.0007276854\n",
            "Epoch: 600\n",
            "Error: 0.0002951966\n",
            "Epoch: 700\n",
            "Error: 0.0001251684\n",
            "Epoch: 800\n",
            "Error: 0.0000551555\n",
            "Epoch: 900\n",
            "Error: 0.0000250391\n"
          ]
        }
      ]
    },
    {
      "cell_type": "markdown",
      "source": [
        "Test"
      ],
      "metadata": {
        "id": "23In3eOJlnoB"
      }
    },
    {
      "cell_type": "code",
      "source": [
        "dot1 = numpy.dot(weight1, in_arr)\n",
        "sig1 = sigmoid_function(dot1)\n",
        "dot2 = numpy.dot(weight2, sig1)\n",
        "sig2 = sigmoid_function(dot2)\n",
        "\n",
        "output = sig2\n",
        "\n",
        "print('Target')\n",
        "print(target)\n",
        "print('')\n",
        "print('Output')\n",
        "print(output)"
      ],
      "metadata": {
        "colab": {
          "base_uri": "https://localhost:8080/"
        },
        "id": "_jrKt2kHlpLf",
        "outputId": "b0b8b5ac-63f9-4864-dcbf-2edae1e4b72e"
      },
      "execution_count": 51,
      "outputs": [
        {
          "output_type": "stream",
          "name": "stdout",
          "text": [
            "Target\n",
            "[[0.6]\n",
            " [0.8]\n",
            " [0.5]]\n",
            "\n",
            "Output\n",
            "[[0.60127967]\n",
            " [0.79690893]\n",
            " [0.50064746]]\n"
          ]
        }
      ]
    },
    {
      "cell_type": "markdown",
      "source": [
        "# ***Part 2***"
      ],
      "metadata": {
        "id": "-xqA_IzimLtt"
      }
    },
    {
      "cell_type": "markdown",
      "source": [
        "## Experiment with different weights, inputs, and targets (1)"
      ],
      "metadata": {
        "id": "dt8Fc5FvmS1P"
      }
    },
    {
      "cell_type": "code",
      "source": [
        "import numpy\n",
        "import scipy.special\n",
        "\n",
        "sigmoid_function = lambda x: scipy.special.expit(x)\n",
        "\n",
        "n_of_epochs = 1000\n",
        "\n",
        "in_arr = numpy.asarray([[1.5, 1.3, 0.3]]).T\n",
        "target = numpy.asarray([[0.2, 0.8, 1.8]]).T\n",
        "\n",
        "weight1 = numpy.asarray([[0.3, 0.5, 0.1], [0.9, 0.5, 0.4], [0.6, 0.2, 0.9]])\n",
        "weight2 = numpy.asarray([[0.7, 0.4, 0.3], [0.6, 0.3, 0.9], [0.4, 0.5, 0.1]])\n",
        "\n",
        "for epoch in range(n_of_epochs):\n",
        "  dot1 = numpy.dot(weight1, in_arr)\n",
        "  sig1 = sigmoid_function(dot1)\n",
        "  dot2 = numpy.dot(weight2, sig1)\n",
        "  sig2 = sigmoid_function(dot2)\n",
        "\n",
        "  error2 = target - sig2\n",
        "  error1 = numpy.dot(weight2.T, error2)\n",
        "  weight1 = weight1 - (-0.08 * numpy.dot(error1 * sig1 * (1 - sig1), in_arr.T))\n",
        "  weight2 = weight2 - (-0.08 * numpy.dot(error2 * sig2 * (1 - sig2), sig1.T))\n",
        "\n",
        "  if epoch % 100 == 0:\n",
        "    print('Epoch:', epoch)\n",
        "    total_error = numpy.sum(error2 ** 2)\n",
        "    print('Error:', '{0:.10f}'.format(total_error))"
      ],
      "metadata": {
        "colab": {
          "base_uri": "https://localhost:8080/"
        },
        "id": "9LC1-89NmcpF",
        "outputId": "39a18a20-d3b5-410f-d510-eea7af06a84c"
      },
      "execution_count": 63,
      "outputs": [
        {
          "output_type": "stream",
          "name": "stdout",
          "text": [
            "Epoch: 0\n",
            "Error: 1.5269917730\n",
            "Epoch: 100\n",
            "Error: 0.7648786276\n",
            "Epoch: 200\n",
            "Error: 0.6862587288\n",
            "Epoch: 300\n",
            "Error: 0.6683832534\n",
            "Epoch: 400\n",
            "Error: 0.6607076964\n",
            "Epoch: 500\n",
            "Error: 0.6564089555\n",
            "Epoch: 600\n",
            "Error: 0.6536355364\n",
            "Epoch: 700\n",
            "Error: 0.6516835488\n",
            "Epoch: 800\n",
            "Error: 0.6502282917\n",
            "Epoch: 900\n",
            "Error: 0.6490986837\n"
          ]
        }
      ]
    },
    {
      "cell_type": "markdown",
      "source": [
        "## Experiment with different weights, inputs, and targets (2)"
      ],
      "metadata": {
        "id": "A_E3b3DbnqvR"
      }
    },
    {
      "cell_type": "code",
      "source": [
        "import numpy\n",
        "import scipy.special\n",
        "\n",
        "sigmoid_function = lambda x: scipy.special.expit(x)\n",
        "\n",
        "n_of_epochs = 1000\n",
        "\n",
        "in_arr = numpy.asarray([[0.8, 0.2, 0.7]]).T\n",
        "target = numpy.asarray([[0.5, 0.9, 0.4]]).T\n",
        "\n",
        "weight1 = numpy.asarray([[0.3, 0.3, 0.5], [0.6, 0.7, 0.2], [0.7, 0.5, 0.4]])\n",
        "weight2 = numpy.asarray([[0.8, 0.7, 0.3], [0.1, 0.5, 0.1], [0.2, 0.1, 0.8]])\n",
        "\n",
        "for epoch in range(n_of_epochs):\n",
        "  dot1 = numpy.dot(weight1, in_arr)\n",
        "  sig1 = sigmoid_function(dot1)\n",
        "  dot2 = numpy.dot(weight2, sig1)\n",
        "  sig2 = sigmoid_function(dot2)\n",
        "\n",
        "  error2 = target - sig2\n",
        "  error1 = numpy.dot(weight2.T, error2)\n",
        "  weight1 = weight1 - (-0.08 * numpy.dot(error1 * sig1 * (1 - sig1), in_arr.T))\n",
        "  weight2 = weight2 - (-0.08 * numpy.dot(error2 * sig2 * (1 - sig2), sig1.T))\n",
        "\n",
        "  if epoch % 100 == 0:\n",
        "    print('Epoch:', epoch)\n",
        "    total_error = numpy.sum(error2 ** 2)\n",
        "    print('Error:', '{0:.10f}'.format(total_error))"
      ],
      "metadata": {
        "colab": {
          "base_uri": "https://localhost:8080/"
        },
        "id": "0XQLQBwvnt-l",
        "outputId": "295cfb5e-b821-4d5e-e207-c31f5369bf35"
      },
      "execution_count": 61,
      "outputs": [
        {
          "output_type": "stream",
          "name": "stdout",
          "text": [
            "Epoch: 0\n",
            "Error: 0.2347246953\n",
            "Epoch: 100\n",
            "Error: 0.0821123576\n",
            "Epoch: 200\n",
            "Error: 0.0295624975\n",
            "Epoch: 300\n",
            "Error: 0.0108253697\n",
            "Epoch: 400\n",
            "Error: 0.0044308152\n",
            "Epoch: 500\n",
            "Error: 0.0021357870\n",
            "Epoch: 600\n",
            "Error: 0.0011786132\n",
            "Epoch: 700\n",
            "Error: 0.0007061883\n",
            "Epoch: 800\n",
            "Error: 0.0004428480\n",
            "Epoch: 900\n",
            "Error: 0.0002852677\n"
          ]
        }
      ]
    },
    {
      "cell_type": "markdown",
      "source": [
        "## Summary of what i have learned"
      ],
      "metadata": {
        "id": "kt1lddJ2peGA"
      }
    },
    {
      "cell_type": "markdown",
      "source": [
        "I already had theoretical knowledge of the neural network training process, but I didn't know about the actual implementation. This task allows me to understand how to actually implement the forward propagation, backward propagation process to train neural networks, and write the code myself. Experiments with different values for the same code also taught me the importance of setting the right values, such as weights and target values, etc."
      ],
      "metadata": {
        "id": "ehrT3-eIpkoy"
      }
    },
    {
      "cell_type": "markdown",
      "source": [
        "저는 신경망 훈련 과정에 대한 이론적 지식은 이미 가지고 있었지만, 실제 구현에 대해서는 알지 못했습니다. 이 과제를 통해  신경망을 훈련시키기 위한 forward propagation, backward propagation 과정을 실제로 코드로 어떻게 구현 하는지를 이해하고 직접 작성할 수 있게 되었습니다. 또한 동일한 코드에 대해 다른 값을 사용한 실험을 통해 가중치, target values 와 같은 값들을 알맞게 설정하는 것의 중요성을 배웠습니다."
      ],
      "metadata": {
        "id": "RN9yqbpGrgiD"
      }
    }
  ]
}