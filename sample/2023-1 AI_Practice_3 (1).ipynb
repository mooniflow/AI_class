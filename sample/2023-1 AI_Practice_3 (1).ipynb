{
  "nbformat": 4,
  "nbformat_minor": 0,
  "metadata": {
    "colab": {
      "provenance": []
    },
    "kernelspec": {
      "name": "python3",
      "display_name": "Python 3"
    },
    "language_info": {
      "name": "python"
    }
  },
  "cells": [
    {
      "cell_type": "code",
      "execution_count": null,
      "metadata": {
        "id": "uXVZx0PeNghN"
      },
      "outputs": [],
      "source": []
    },
    {
      "cell_type": "markdown",
      "source": [
        "# Create Neural Network with Python"
      ],
      "metadata": {
        "id": "xzn_k3rMNn85"
      }
    },
    {
      "cell_type": "code",
      "source": [
        "import numpy\n",
        "import scipy.special"
      ],
      "metadata": {
        "id": "PIQ5T82FNsog"
      },
      "execution_count": 1,
      "outputs": []
    },
    {
      "cell_type": "code",
      "source": [
        "# initialize neural network class\n",
        "class Neural_Network:\n",
        "      \n",
        "    # initialise the neural network\n",
        "    def __init__(self, input_nodes, hidden_nodes, output_nodes, learning_rate):        \n",
        "        print('Input Nodes: ', input_nodes, \n",
        "              'Hidden Nodes: ', hidden_nodes, \n",
        "              'Output Nodes: ', output_nodes)\n",
        "        \n",
        "        self.W_ih = (numpy.random.rand(hidden_nodes, input_nodes) - 0.5)\n",
        "        self.W_ho = (numpy.random.rand(output_nodes, hidden_nodes) - 0.5)\n",
        "\n",
        "        print('Matrix W_input_hidden: ', '\\n', self.W_ih)\n",
        "        print('Matrix W_hidden_output: ', '\\n', self.W_ho)\n",
        "        \n",
        "        self.lr = learning_rate\n",
        "        \n",
        "        # activation function is the sigmoid function\n",
        "        self.activation_function = lambda x: scipy.special.expit(x)        \n",
        "\n",
        "    \n",
        "    # train the neural network\n",
        "    def train(self, inputs_list, targets_list):\n",
        "        # convert inputs list to 2d array\n",
        "        inputs = numpy.array(inputs_list, ndmin=2).T\n",
        "        targets = numpy.array(targets_list, ndmin=2).T\n",
        "\n",
        "        # FORWARD PASS\n",
        "        \n",
        "        hidden_inputs = numpy.dot(self.W_ih, inputs)\n",
        "        hidden_outputs = self.activation_function(hidden_inputs)\n",
        "        \n",
        "        final_inputs = numpy.dot(self.W_ho, hidden_outputs)\n",
        "        final_outputs = self.activation_function(final_inputs)\n",
        "\n",
        "        # BACKWARD PASS\n",
        "\n",
        "        output_errors = targets - final_outputs\n",
        "        hidden_errors = numpy.dot(self.W_ho.T, output_errors) \n",
        "        \n",
        "        # update the weights for the links between the hidden and output layers\n",
        "        self.W_ho += self.lr * numpy.dot((output_errors * final_outputs * (1.0 - final_outputs)), hidden_outputs.T)\n",
        "        \n",
        "        # update the weights for the links between the input and hidden layers\n",
        "        self.W_ih += self.lr * numpy.dot((hidden_errors * hidden_outputs * (1.0 - hidden_outputs)), inputs.T)\n",
        "\n",
        "    \n",
        "    # query the neural network\n",
        "    def query(self, inputs_list):\n",
        "        # convert inputs list to 2d array\n",
        "        inputs = numpy.array(inputs_list, ndmin=2).T\n",
        "        \n",
        "        hidden_inputs = numpy.dot(self.W_ih, inputs)\n",
        "        hidden_outputs = self.activation_function(hidden_inputs)\n",
        "        \n",
        "        final_inputs = numpy.dot(self.W_ho, hidden_outputs)\n",
        "        final_outputs = self.activation_function(final_inputs)\n",
        "        \n",
        "        return final_outputs"
      ],
      "metadata": {
        "id": "44ZhK2pUNuwx"
      },
      "execution_count": 17,
      "outputs": []
    },
    {
      "cell_type": "code",
      "source": [
        "neural_network = Neural_Network(input_nodes=3, \n",
        "                                hidden_nodes=3, \n",
        "                                output_nodes=3, \n",
        "                                learning_rate=0.01)"
      ],
      "metadata": {
        "colab": {
          "base_uri": "https://localhost:8080/"
        },
        "id": "DSoumh-5Nwe6",
        "outputId": "279c13a8-bd5e-481e-ae26-561d3f1f0a1f"
      },
      "execution_count": 18,
      "outputs": [
        {
          "output_type": "stream",
          "name": "stdout",
          "text": [
            "Input Nodes:  3 Hidden Nodes:  3 Output Nodes:  3\n",
            "Matrix W_input_hidden:  \n",
            " [[-0.07757523  0.1788525  -0.32636987]\n",
            " [-0.29908157 -0.40122818 -0.27171119]\n",
            " [ 0.29822655  0.40269056  0.29365071]]\n",
            "Matrix W_hidden_output:  \n",
            " [[ 0.48083579  0.20983494  0.21942197]\n",
            " [-0.30102245 -0.21573444 -0.35922101]\n",
            " [ 0.23947851 -0.12365043 -0.46187409]]\n"
          ]
        }
      ]
    },
    {
      "cell_type": "code",
      "source": [
        "neural_network.query([0.1, 0.3, 0.5])"
      ],
      "metadata": {
        "colab": {
          "base_uri": "https://localhost:8080/"
        },
        "id": "kebL65GvNwhA",
        "outputId": "c6156741-d94a-40aa-8455-217024826929"
      },
      "execution_count": 19,
      "outputs": [
        {
          "output_type": "execute_result",
          "data": {
            "text/plain": [
              "array([[0.6087957 ],\n",
              "       [0.39165456],\n",
              "       [0.44884281]])"
            ]
          },
          "metadata": {},
          "execution_count": 19
        }
      ]
    },
    {
      "cell_type": "code",
      "source": [
        "n_of_epochs = 5000\n",
        "\n",
        "for epoch in range(n_of_epochs):\n",
        "    neural_network.train([0.1, 0.3, 0.5], [0.8, 0.8, 0.8])\n",
        "print('---Training Fininshed---\\n')"
      ],
      "metadata": {
        "colab": {
          "base_uri": "https://localhost:8080/"
        },
        "id": "TzmrpisINwjH",
        "outputId": "ff0769d7-1472-434c-81e8-aa0d710e4b5a"
      },
      "execution_count": 20,
      "outputs": [
        {
          "output_type": "stream",
          "name": "stdout",
          "text": [
            "---Training Fininshed---\n",
            "\n"
          ]
        }
      ]
    },
    {
      "cell_type": "code",
      "source": [
        "neural_network.query([0.1, 0.3, 0.5])"
      ],
      "metadata": {
        "colab": {
          "base_uri": "https://localhost:8080/"
        },
        "id": "9hNgHP-jNwk_",
        "outputId": "451f4b76-b727-492f-9e0d-4683f305ca2b"
      },
      "execution_count": 21,
      "outputs": [
        {
          "output_type": "execute_result",
          "data": {
            "text/plain": [
              "array([[0.78492482],\n",
              "       [0.76367741],\n",
              "       [0.77036833]])"
            ]
          },
          "metadata": {},
          "execution_count": 21
        }
      ]
    },
    {
      "cell_type": "code",
      "source": [],
      "metadata": {
        "id": "pmtozALANwnm"
      },
      "execution_count": null,
      "outputs": []
    },
    {
      "cell_type": "markdown",
      "source": [
        "# MNIST DATASET TRAINING"
      ],
      "metadata": {
        "id": "FBz5nQVxcNZF"
      }
    },
    {
      "cell_type": "code",
      "source": [
        "from google.colab import drive\n",
        "drive.mount('/content/drive')"
      ],
      "metadata": {
        "colab": {
          "base_uri": "https://localhost:8080/"
        },
        "id": "VmRitsi5Nwp8",
        "outputId": "fe0a3ee4-6de4-4390-98f1-4862b1429f22"
      },
      "execution_count": 22,
      "outputs": [
        {
          "output_type": "stream",
          "name": "stdout",
          "text": [
            "Mounted at /content/drive\n"
          ]
        }
      ]
    },
    {
      "cell_type": "code",
      "source": [
        "mnist_dataset_file_path = '/content/drive/MyDrive/AI Class/2023-1/mnist_dataset/mnist_train_100.csv'"
      ],
      "metadata": {
        "id": "jj-AbRbKNwsR"
      },
      "execution_count": 29,
      "outputs": []
    },
    {
      "cell_type": "code",
      "source": [
        "import csv\n",
        "import numpy as np"
      ],
      "metadata": {
        "id": "7mg2do_CNwue"
      },
      "execution_count": 30,
      "outputs": []
    },
    {
      "cell_type": "code",
      "source": [
        "train_images, train_labels = [], []\n",
        "\n",
        "with open(mnist_dataset_file_path) as csv_file:\n",
        "  csv_reader = csv.reader(csv_file, delimiter=',')\n",
        "  for row_id, row in enumerate(csv_reader):\n",
        "    \n",
        "      label = int(row[0])\n",
        "      image_data = np.asfarray(row[1:])\n",
        "    \n",
        "      train_labels.append(label)\n",
        "      train_images.append(image_data)\n",
        "\n",
        "print('Train Images: ', len(train_images))\n",
        "print('Train Labels: ', len(train_labels))"
      ],
      "metadata": {
        "colab": {
          "base_uri": "https://localhost:8080/"
        },
        "id": "oCZpnuTuNwyH",
        "outputId": "b2ec1da0-b90f-492f-efdb-7b9d409de597"
      },
      "execution_count": 40,
      "outputs": [
        {
          "output_type": "stream",
          "name": "stdout",
          "text": [
            "Train Images:  100\n",
            "Train Labels:  100\n"
          ]
        }
      ]
    },
    {
      "cell_type": "code",
      "source": [
        "import matplotlib.pyplot as plt\n",
        "%matplotlib inline"
      ],
      "metadata": {
        "id": "Zdd49u-Kc3GO"
      },
      "execution_count": 48,
      "outputs": []
    },
    {
      "cell_type": "code",
      "source": [
        "index = 15\n",
        "print('Label:', train_labels[index], \n",
        "      '\\nImage shape:', train_images[index].shape)\n",
        "\n",
        "plt.imshow(train_images[index].reshape(28, 28))\n",
        "plt.show()"
      ],
      "metadata": {
        "colab": {
          "base_uri": "https://localhost:8080/",
          "height": 465
        },
        "id": "JLO0Uv3FlMLF",
        "outputId": "0e628c28-6226-4dbb-8ac0-7d976b789828"
      },
      "execution_count": 51,
      "outputs": [
        {
          "output_type": "stream",
          "name": "stdout",
          "text": [
            "Label: 7 \n",
            "Image shape: (784,)\n"
          ]
        },
        {
          "output_type": "display_data",
          "data": {
            "text/plain": [
              "<Figure size 640x480 with 1 Axes>"
            ],
            "image/png": "[encoded data removed]"
          },
          "metadata": {}
        }
      ]
    },
    {
      "cell_type": "markdown",
      "source": [
        "## Create Neural Network for MNIST"
      ],
      "metadata": {
        "id": "uMwu1yqdg2Ye"
      }
    },
    {
      "cell_type": "code",
      "source": [
        "from tqdm import tqdm"
      ],
      "metadata": {
        "id": "24OmmuJLiBfr"
      },
      "execution_count": 42,
      "outputs": []
    },
    {
      "cell_type": "code",
      "source": [
        "MNIST_neural_network = Neural_Network(input_nodes=784, \n",
        "                                      hidden_nodes=200, \n",
        "                                      output_nodes=10, \n",
        "                                      learning_rate=0.01)"
      ],
      "metadata": {
        "colab": {
          "base_uri": "https://localhost:8080/"
        },
        "id": "nEOcXYLKc3Id",
        "outputId": "a09673ce-2a53-41bf-af4d-0654e0602c19"
      },
      "execution_count": 64,
      "outputs": [
        {
          "output_type": "stream",
          "name": "stdout",
          "text": [
            "Input Nodes:  784 Hidden Nodes:  200 Output Nodes:  10\n",
            "Matrix W_input_hidden:  \n",
            " [[ 0.14490788 -0.44504181  0.047778   ...  0.28747123 -0.37577231\n",
            "  -0.34230781]\n",
            " [-0.39237741 -0.27039061  0.35594517 ...  0.43689154  0.11768326\n",
            "   0.10957212]\n",
            " [-0.45544468  0.10365494  0.25117325 ... -0.40737172 -0.28049416\n",
            "  -0.28150407]\n",
            " ...\n",
            " [-0.01205599 -0.35612393 -0.26992747 ... -0.25959931 -0.0294127\n",
            "   0.28812414]\n",
            " [ 0.28357634 -0.47815142 -0.3220497  ... -0.49034659 -0.19058119\n",
            "  -0.12866155]\n",
            " [-0.30155699 -0.12728915 -0.16959856 ...  0.27535886 -0.06596136\n",
            "   0.36416749]]\n",
            "Matrix W_hidden_output:  \n",
            " [[ 0.04807095  0.40347017 -0.24690614 ...  0.48347585 -0.34064176\n",
            "  -0.22154703]\n",
            " [-0.24693224  0.40393322 -0.29115562 ... -0.41278101 -0.17931102\n",
            "   0.3629027 ]\n",
            " [-0.19622544  0.46091647 -0.46002241 ... -0.19393434 -0.25758903\n",
            "   0.09482286]\n",
            " ...\n",
            " [-0.21179678  0.24139297 -0.18277426 ...  0.19748709  0.00743514\n",
            "  -0.2261856 ]\n",
            " [-0.33512956 -0.37938479 -0.24386009 ...  0.14955518  0.14436412\n",
            "   0.38560203]\n",
            " [ 0.10741963  0.37111212 -0.15206249 ... -0.03749592 -0.3806775\n",
            "   0.14426609]]\n"
          ]
        }
      ]
    },
    {
      "cell_type": "markdown",
      "source": [
        "## TRAIN NEURAL NETWORK"
      ],
      "metadata": {
        "id": "jcFBC8Z5iwis"
      }
    },
    {
      "cell_type": "code",
      "source": [
        "n_of_epochs = 50\n",
        "\n",
        "for epoch in range(n_of_epochs):\n",
        "    print('Epoch: ', epoch)\n",
        "\n",
        "    for i in tqdm(range(len(train_images))):\n",
        "\n",
        "        train_image = train_images[i]\n",
        "        train_label_index = train_labels[i]\n",
        "\n",
        "        train_label = np.zeros(10)\n",
        "        train_label[int(train_label_index)] = 1\n",
        "\n",
        "        train_image = train_image / 255.0\n",
        "\n",
        "        MNIST_neural_network.train(train_image, train_label)\n",
        "\n",
        "print('---Training Fininshed---\\n')"
      ],
      "metadata": {
        "colab": {
          "base_uri": "https://localhost:8080/"
        },
        "id": "o9ZHLlHKc3Kk",
        "outputId": "dded388a-edaf-49e2-ff64-d4395efc5f06"
      },
      "execution_count": 65,
      "outputs": [
        {
          "output_type": "stream",
          "name": "stdout",
          "text": [
            "Epoch:  0\n"
          ]
        },
        {
          "output_type": "stream",
          "name": "stderr",
          "text": [
            "100%|██████████| 100/100 [00:00<00:00, 1136.52it/s]\n"
          ]
        },
        {
          "output_type": "stream",
          "name": "stdout",
          "text": [
            "Epoch:  1\n"
          ]
        },
        {
          "output_type": "stream",
          "name": "stderr",
          "text": [
            "100%|██████████| 100/100 [00:00<00:00, 1488.38it/s]\n"
          ]
        },
        {
          "output_type": "stream",
          "name": "stdout",
          "text": [
            "Epoch:  2\n"
          ]
        },
        {
          "output_type": "stream",
          "name": "stderr",
          "text": [
            "100%|██████████| 100/100 [00:00<00:00, 1470.24it/s]\n"
          ]
        },
        {
          "output_type": "stream",
          "name": "stdout",
          "text": [
            "Epoch:  3\n"
          ]
        },
        {
          "output_type": "stream",
          "name": "stderr",
          "text": [
            "100%|██████████| 100/100 [00:00<00:00, 872.65it/s]\n"
          ]
        },
        {
          "output_type": "stream",
          "name": "stdout",
          "text": [
            "Epoch:  4\n"
          ]
        },
        {
          "output_type": "stream",
          "name": "stderr",
          "text": [
            "100%|██████████| 100/100 [00:00<00:00, 691.39it/s]\n"
          ]
        },
        {
          "output_type": "stream",
          "name": "stdout",
          "text": [
            "Epoch:  5\n"
          ]
        },
        {
          "output_type": "stream",
          "name": "stderr",
          "text": [
            "100%|██████████| 100/100 [00:00<00:00, 653.97it/s]\n"
          ]
        },
        {
          "output_type": "stream",
          "name": "stdout",
          "text": [
            "Epoch:  6\n"
          ]
        },
        {
          "output_type": "stream",
          "name": "stderr",
          "text": [
            "100%|██████████| 100/100 [00:00<00:00, 594.57it/s]\n"
          ]
        },
        {
          "output_type": "stream",
          "name": "stdout",
          "text": [
            "Epoch:  7\n"
          ]
        },
        {
          "output_type": "stream",
          "name": "stderr",
          "text": [
            "100%|██████████| 100/100 [00:00<00:00, 714.17it/s]\n"
          ]
        },
        {
          "output_type": "stream",
          "name": "stdout",
          "text": [
            "Epoch:  8\n"
          ]
        },
        {
          "output_type": "stream",
          "name": "stderr",
          "text": [
            "100%|██████████| 100/100 [00:00<00:00, 608.68it/s]\n"
          ]
        },
        {
          "output_type": "stream",
          "name": "stdout",
          "text": [
            "Epoch:  9\n"
          ]
        },
        {
          "output_type": "stream",
          "name": "stderr",
          "text": [
            "100%|██████████| 100/100 [00:00<00:00, 709.60it/s]\n"
          ]
        },
        {
          "output_type": "stream",
          "name": "stdout",
          "text": [
            "Epoch:  10\n"
          ]
        },
        {
          "output_type": "stream",
          "name": "stderr",
          "text": [
            "100%|██████████| 100/100 [00:00<00:00, 661.27it/s]\n"
          ]
        },
        {
          "output_type": "stream",
          "name": "stdout",
          "text": [
            "Epoch:  11\n"
          ]
        },
        {
          "output_type": "stream",
          "name": "stderr",
          "text": [
            "100%|██████████| 100/100 [00:00<00:00, 643.21it/s]\n"
          ]
        },
        {
          "output_type": "stream",
          "name": "stdout",
          "text": [
            "Epoch:  12\n"
          ]
        },
        {
          "output_type": "stream",
          "name": "stderr",
          "text": [
            "100%|██████████| 100/100 [00:00<00:00, 632.84it/s]\n"
          ]
        },
        {
          "output_type": "stream",
          "name": "stdout",
          "text": [
            "Epoch:  13\n"
          ]
        },
        {
          "output_type": "stream",
          "name": "stderr",
          "text": [
            "100%|██████████| 100/100 [00:00<00:00, 612.66it/s]\n"
          ]
        },
        {
          "output_type": "stream",
          "name": "stdout",
          "text": [
            "Epoch:  14\n"
          ]
        },
        {
          "output_type": "stream",
          "name": "stderr",
          "text": [
            "100%|██████████| 100/100 [00:00<00:00, 590.51it/s]\n"
          ]
        },
        {
          "output_type": "stream",
          "name": "stdout",
          "text": [
            "Epoch:  15\n"
          ]
        },
        {
          "output_type": "stream",
          "name": "stderr",
          "text": [
            "100%|██████████| 100/100 [00:00<00:00, 708.20it/s]\n"
          ]
        },
        {
          "output_type": "stream",
          "name": "stdout",
          "text": [
            "Epoch:  16\n"
          ]
        },
        {
          "output_type": "stream",
          "name": "stderr",
          "text": [
            "100%|██████████| 100/100 [00:00<00:00, 624.72it/s]\n"
          ]
        },
        {
          "output_type": "stream",
          "name": "stdout",
          "text": [
            "Epoch:  17\n"
          ]
        },
        {
          "output_type": "stream",
          "name": "stderr",
          "text": [
            "100%|██████████| 100/100 [00:00<00:00, 616.00it/s]\n"
          ]
        },
        {
          "output_type": "stream",
          "name": "stdout",
          "text": [
            "Epoch:  18\n"
          ]
        },
        {
          "output_type": "stream",
          "name": "stderr",
          "text": [
            "100%|██████████| 100/100 [00:00<00:00, 538.62it/s]\n"
          ]
        },
        {
          "output_type": "stream",
          "name": "stdout",
          "text": [
            "Epoch:  19\n"
          ]
        },
        {
          "output_type": "stream",
          "name": "stderr",
          "text": [
            "100%|██████████| 100/100 [00:00<00:00, 643.13it/s]\n"
          ]
        },
        {
          "output_type": "stream",
          "name": "stdout",
          "text": [
            "Epoch:  20\n"
          ]
        },
        {
          "output_type": "stream",
          "name": "stderr",
          "text": [
            "100%|██████████| 100/100 [00:00<00:00, 623.12it/s]\n"
          ]
        },
        {
          "output_type": "stream",
          "name": "stdout",
          "text": [
            "Epoch:  21\n"
          ]
        },
        {
          "output_type": "stream",
          "name": "stderr",
          "text": [
            "100%|██████████| 100/100 [00:00<00:00, 688.32it/s]\n"
          ]
        },
        {
          "output_type": "stream",
          "name": "stdout",
          "text": [
            "Epoch:  22\n"
          ]
        },
        {
          "output_type": "stream",
          "name": "stderr",
          "text": [
            "100%|██████████| 100/100 [00:00<00:00, 702.26it/s]\n"
          ]
        },
        {
          "output_type": "stream",
          "name": "stdout",
          "text": [
            "Epoch:  23\n"
          ]
        },
        {
          "output_type": "stream",
          "name": "stderr",
          "text": [
            "100%|██████████| 100/100 [00:00<00:00, 643.95it/s]\n"
          ]
        },
        {
          "output_type": "stream",
          "name": "stdout",
          "text": [
            "Epoch:  24\n"
          ]
        },
        {
          "output_type": "stream",
          "name": "stderr",
          "text": [
            "100%|██████████| 100/100 [00:00<00:00, 579.41it/s]\n"
          ]
        },
        {
          "output_type": "stream",
          "name": "stdout",
          "text": [
            "Epoch:  25\n"
          ]
        },
        {
          "output_type": "stream",
          "name": "stderr",
          "text": [
            "100%|██████████| 100/100 [00:00<00:00, 506.62it/s]\n"
          ]
        },
        {
          "output_type": "stream",
          "name": "stdout",
          "text": [
            "Epoch:  26\n"
          ]
        },
        {
          "output_type": "stream",
          "name": "stderr",
          "text": [
            "100%|██████████| 100/100 [00:00<00:00, 575.96it/s]\n"
          ]
        },
        {
          "output_type": "stream",
          "name": "stdout",
          "text": [
            "Epoch:  27\n"
          ]
        },
        {
          "output_type": "stream",
          "name": "stderr",
          "text": [
            "100%|██████████| 100/100 [00:00<00:00, 608.91it/s]\n"
          ]
        },
        {
          "output_type": "stream",
          "name": "stdout",
          "text": [
            "Epoch:  28\n"
          ]
        },
        {
          "output_type": "stream",
          "name": "stderr",
          "text": [
            "100%|██████████| 100/100 [00:00<00:00, 518.66it/s]\n"
          ]
        },
        {
          "output_type": "stream",
          "name": "stdout",
          "text": [
            "Epoch:  29\n"
          ]
        },
        {
          "output_type": "stream",
          "name": "stderr",
          "text": [
            "100%|██████████| 100/100 [00:00<00:00, 625.47it/s]\n"
          ]
        },
        {
          "output_type": "stream",
          "name": "stdout",
          "text": [
            "Epoch:  30\n"
          ]
        },
        {
          "output_type": "stream",
          "name": "stderr",
          "text": [
            "100%|██████████| 100/100 [00:00<00:00, 567.67it/s]\n"
          ]
        },
        {
          "output_type": "stream",
          "name": "stdout",
          "text": [
            "Epoch:  31\n"
          ]
        },
        {
          "output_type": "stream",
          "name": "stderr",
          "text": [
            "100%|██████████| 100/100 [00:00<00:00, 711.44it/s]\n"
          ]
        },
        {
          "output_type": "stream",
          "name": "stdout",
          "text": [
            "Epoch:  32\n"
          ]
        },
        {
          "output_type": "stream",
          "name": "stderr",
          "text": [
            "100%|██████████| 100/100 [00:00<00:00, 649.46it/s]\n"
          ]
        },
        {
          "output_type": "stream",
          "name": "stdout",
          "text": [
            "Epoch:  33\n"
          ]
        },
        {
          "output_type": "stream",
          "name": "stderr",
          "text": [
            "100%|██████████| 100/100 [00:00<00:00, 610.42it/s]\n"
          ]
        },
        {
          "output_type": "stream",
          "name": "stdout",
          "text": [
            "Epoch:  34\n"
          ]
        },
        {
          "output_type": "stream",
          "name": "stderr",
          "text": [
            "100%|██████████| 100/100 [00:00<00:00, 622.75it/s]\n"
          ]
        },
        {
          "output_type": "stream",
          "name": "stdout",
          "text": [
            "Epoch:  35\n"
          ]
        },
        {
          "output_type": "stream",
          "name": "stderr",
          "text": [
            "100%|██████████| 100/100 [00:00<00:00, 538.04it/s]\n"
          ]
        },
        {
          "output_type": "stream",
          "name": "stdout",
          "text": [
            "Epoch:  36\n"
          ]
        },
        {
          "output_type": "stream",
          "name": "stderr",
          "text": [
            "100%|██████████| 100/100 [00:00<00:00, 606.94it/s]\n"
          ]
        },
        {
          "output_type": "stream",
          "name": "stdout",
          "text": [
            "Epoch:  37\n"
          ]
        },
        {
          "output_type": "stream",
          "name": "stderr",
          "text": [
            "100%|██████████| 100/100 [00:00<00:00, 651.07it/s]\n"
          ]
        },
        {
          "output_type": "stream",
          "name": "stdout",
          "text": [
            "Epoch:  38\n"
          ]
        },
        {
          "output_type": "stream",
          "name": "stderr",
          "text": [
            "100%|██████████| 100/100 [00:00<00:00, 681.55it/s]\n"
          ]
        },
        {
          "output_type": "stream",
          "name": "stdout",
          "text": [
            "Epoch:  39\n"
          ]
        },
        {
          "output_type": "stream",
          "name": "stderr",
          "text": [
            "100%|██████████| 100/100 [00:00<00:00, 663.07it/s]\n"
          ]
        },
        {
          "output_type": "stream",
          "name": "stdout",
          "text": [
            "Epoch:  40\n"
          ]
        },
        {
          "output_type": "stream",
          "name": "stderr",
          "text": [
            "100%|██████████| 100/100 [00:00<00:00, 601.31it/s]\n"
          ]
        },
        {
          "output_type": "stream",
          "name": "stdout",
          "text": [
            "Epoch:  41\n"
          ]
        },
        {
          "output_type": "stream",
          "name": "stderr",
          "text": [
            "100%|██████████| 100/100 [00:00<00:00, 773.41it/s]\n"
          ]
        },
        {
          "output_type": "stream",
          "name": "stdout",
          "text": [
            "Epoch:  42\n"
          ]
        },
        {
          "output_type": "stream",
          "name": "stderr",
          "text": [
            "100%|██████████| 100/100 [00:00<00:00, 1423.03it/s]\n"
          ]
        },
        {
          "output_type": "stream",
          "name": "stdout",
          "text": [
            "Epoch:  43\n"
          ]
        },
        {
          "output_type": "stream",
          "name": "stderr",
          "text": [
            "100%|██████████| 100/100 [00:00<00:00, 1050.89it/s]\n"
          ]
        },
        {
          "output_type": "stream",
          "name": "stdout",
          "text": [
            "Epoch:  44\n"
          ]
        },
        {
          "output_type": "stream",
          "name": "stderr",
          "text": [
            "100%|██████████| 100/100 [00:00<00:00, 1237.32it/s]\n"
          ]
        },
        {
          "output_type": "stream",
          "name": "stdout",
          "text": [
            "Epoch:  45\n"
          ]
        },
        {
          "output_type": "stream",
          "name": "stderr",
          "text": [
            "100%|██████████| 100/100 [00:00<00:00, 1369.86it/s]\n"
          ]
        },
        {
          "output_type": "stream",
          "name": "stdout",
          "text": [
            "Epoch:  46\n"
          ]
        },
        {
          "output_type": "stream",
          "name": "stderr",
          "text": [
            "100%|██████████| 100/100 [00:00<00:00, 1097.22it/s]\n"
          ]
        },
        {
          "output_type": "stream",
          "name": "stdout",
          "text": [
            "Epoch:  47\n"
          ]
        },
        {
          "output_type": "stream",
          "name": "stderr",
          "text": [
            "100%|██████████| 100/100 [00:00<00:00, 1357.71it/s]\n"
          ]
        },
        {
          "output_type": "stream",
          "name": "stdout",
          "text": [
            "Epoch:  48\n"
          ]
        },
        {
          "output_type": "stream",
          "name": "stderr",
          "text": [
            "100%|██████████| 100/100 [00:00<00:00, 1219.51it/s]\n"
          ]
        },
        {
          "output_type": "stream",
          "name": "stdout",
          "text": [
            "Epoch:  49\n"
          ]
        },
        {
          "output_type": "stream",
          "name": "stderr",
          "text": [
            "100%|██████████| 100/100 [00:00<00:00, 1285.73it/s]"
          ]
        },
        {
          "output_type": "stream",
          "name": "stdout",
          "text": [
            "---Training Fininshed---\n",
            "\n"
          ]
        },
        {
          "output_type": "stream",
          "name": "stderr",
          "text": [
            "\n"
          ]
        }
      ]
    },
    {
      "cell_type": "code",
      "source": [],
      "metadata": {
        "id": "eCW4zB-tc3Mz"
      },
      "execution_count": 59,
      "outputs": []
    },
    {
      "cell_type": "markdown",
      "source": [
        "## TEST NEURAL NETWORK"
      ],
      "metadata": {
        "id": "LgA02OVuiz0P"
      }
    },
    {
      "cell_type": "code",
      "source": [
        "mnist_test_dataset_file_path = '/content/drive/MyDrive/AI Class/2023-1/mnist_dataset/mnist_test_10.csv'\n",
        "\n",
        "test_images, test_labels = [], []\n",
        "\n",
        "with open(mnist_test_dataset_file_path) as csv_file:\n",
        "  csv_reader = csv.reader(csv_file, delimiter=',')\n",
        "  for row_id, row in enumerate(csv_reader):\n",
        "    \n",
        "      label = int(row[0])\n",
        "      image_data = np.asfarray(row[1:])\n",
        "    \n",
        "      test_labels.append(label)\n",
        "      test_images.append(image_data)\n",
        "\n",
        "print('Test Images: ', len(test_images))\n",
        "print('Test Labels: ', len(test_labels))"
      ],
      "metadata": {
        "colab": {
          "base_uri": "https://localhost:8080/"
        },
        "id": "wzJIHqh1c3O6",
        "outputId": "3cb705fb-dfc7-485e-da95-7b4998079510"
      },
      "execution_count": 60,
      "outputs": [
        {
          "output_type": "stream",
          "name": "stdout",
          "text": [
            "Test Images:  10\n",
            "Test Labels:  10\n"
          ]
        }
      ]
    },
    {
      "cell_type": "code",
      "source": [],
      "metadata": {
        "id": "LY24WEQAjdPe"
      },
      "execution_count": 60,
      "outputs": []
    },
    {
      "cell_type": "code",
      "source": [
        "correct_predictions = 0\n",
        "\n",
        "for i in tqdm(range(len(test_images))):\n",
        "\n",
        "      test_image = test_images[i]\n",
        "      test_label_index = test_labels[i]\n",
        "\n",
        "      test_image = test_image / 255.0\n",
        "\n",
        "      predicted_array = MNIST_neural_network.query(test_image)\n",
        "      \n",
        "      predicted_label = np.argmax(predicted_array)\n",
        "\n",
        "      if test_label_index == predicted_label:\n",
        "          correct_predictions += 1\n",
        "\n",
        "print('\\nAccuracy: ', correct_predictions / len(test_images))"
      ],
      "metadata": {
        "colab": {
          "base_uri": "https://localhost:8080/"
        },
        "id": "bC2d3qr7jdR0",
        "outputId": "92277eea-51b5-416f-f0cd-1683396617f0"
      },
      "execution_count": 66,
      "outputs": [
        {
          "output_type": "stream",
          "name": "stderr",
          "text": [
            "100%|██████████| 10/10 [00:00<00:00, 1260.72it/s]"
          ]
        },
        {
          "output_type": "stream",
          "name": "stdout",
          "text": [
            "\n",
            "Accuracy:  0.7\n"
          ]
        },
        {
          "output_type": "stream",
          "name": "stderr",
          "text": [
            "\n"
          ]
        }
      ]
    },
    {
      "cell_type": "code",
      "source": [],
      "metadata": {
        "id": "xlY5dJnOjdUB"
      },
      "execution_count": null,
      "outputs": []
    },
    {
      "cell_type": "code",
      "source": [],
      "metadata": {
        "id": "AFxjLDnkjdWS"
      },
      "execution_count": null,
      "outputs": []
    },
    {
      "cell_type": "code",
      "source": [],
      "metadata": {
        "id": "eOA8RHPEjdYZ"
      },
      "execution_count": null,
      "outputs": []
    },
    {
      "cell_type": "code",
      "source": [],
      "metadata": {
        "id": "2Xlq-Y4ujdau"
      },
      "execution_count": null,
      "outputs": []
    }
  ]
}